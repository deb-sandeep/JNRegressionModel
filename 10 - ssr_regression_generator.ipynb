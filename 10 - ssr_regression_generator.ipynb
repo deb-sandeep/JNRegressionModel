{
 "cells": [
  {
   "cell_type": "code",
   "execution_count": 1,
   "id": "9cc58895-970d-47ea-b4cf-042fdbfe16f2",
   "metadata": {},
   "outputs": [],
   "source": [
    "import matplotlib.pyplot as plt\n",
    "import seaborn as sns\n",
    "import pandas as pd\n",
    "import numpy as np\n",
    "import statsmodels.api as sm\n",
    "import json as json\n",
    "import ipywidgets as widgets\n",
    "\n",
    "from sklearn import metrics\n",
    "from sklearn.feature_selection import RFE\n",
    "from sklearn.model_selection import train_test_split\n",
    "from sklearn.linear_model import LogisticRegression\n",
    "from sklearn.tree import DecisionTreeClassifier\n",
    "from sklearn.metrics import confusion_matrix\n",
    "from sklearn.metrics import roc_auc_score\n",
    "from sklearn.metrics import roc_curve\n",
    "from imblearn.over_sampling import SMOTE\n",
    "\n",
    "import util.df_enricher as jn\n",
    "import util.jndb as db\n"
   ]
  },
  {
   "cell_type": "code",
   "execution_count": 2,
   "id": "19db0da7-bd2d-4ef1-bc0f-dbac9250bbee",
   "metadata": {},
   "outputs": [],
   "source": [
    "all_ratings = jn.get_enriched_card_ratings()"
   ]
  },
  {
   "cell_type": "code",
   "execution_count": 3,
   "id": "604ef8f1-bb2a-4edd-8975-b9494afbbd75",
   "metadata": {},
   "outputs": [
    {
     "name": "stdout",
     "output_type": "stream",
     "text": [
      "{\n",
      "  \"fib\": {\n",
      "    \"train_set_size\": 31104,\n",
      "    \"min_attempts\": 2,\n",
      "    \"features\": [\n",
      "      \"subject_num\",\n",
      "      \"difficulty_level\",\n",
      "      \"time_spent\",\n",
      "      \"attempt_num\",\n",
      "      \"gap_duration\",\n",
      "      \"prior_le\"\n",
      "    ],\n",
      "    \"coefficients\": [\n",
      "      0.047558320181126004,\n",
      "      0.36129239969863386,\n",
      "      -0.1444233626305526,\n",
      "      0.07394685561672215,\n",
      "      -0.007826866079033799,\n",
      "      0.028145634612651946\n",
      "    ],\n",
      "    \"intercept\": -1.2700958533576228,\n",
      "    \"target_tnr\": 0.85,\n",
      "    \"threshold\": 0.6403677389452799,\n",
      "    \"accuracy\": 0.7607049428610767,\n",
      "    \"precision_wrong\": 0.8503649635036497,\n",
      "    \"precision_right\": 0.7533879374534624\n",
      "  },\n",
      "  \"question_answer\": {\n",
      "    \"train_set_size\": 14522,\n",
      "    \"min_attempts\": 2,\n",
      "    \"features\": [\n",
      "      \"subject_num\",\n",
      "      \"difficulty_level\",\n",
      "      \"time_spent\",\n",
      "      \"attempt_num\",\n",
      "      \"gap_duration\",\n",
      "      \"prior_le\"\n",
      "    ],\n",
      "    \"coefficients\": [\n",
      "      0.09463481839614755,\n",
      "      0.058812814452439764,\n",
      "      -0.07971827455006887,\n",
      "      0.3806343131040331,\n",
      "      -0.009562307919574803,\n",
      "      0.027188675041747625\n",
      "    ],\n",
      "    \"intercept\": -2.1269827139908006,\n",
      "    \"target_tnr\": 0.85,\n",
      "    \"threshold\": 0.631116571939209,\n",
      "    \"accuracy\": 0.7824791418355185,\n",
      "    \"precision_wrong\": 0.8540772532188842,\n",
      "    \"precision_right\": 0.777137367915466\n",
      "  }\n",
      "}\n"
     ]
    }
   ],
   "source": [
    "def compute_logreg( card_types, all_ratings, target_tnr=0.8, min_attempts=2 ):\n",
    "\n",
    "    models = {}\n",
    "    \n",
    "    for card_type in card_types:\n",
    "        ratings = all_ratings[all_ratings.card_type == card_type]\n",
    "        ratings = ratings[ratings.attempt_num > min_attempts]\n",
    "        \n",
    "        X = ratings[['subject_num','difficulty_level','time_spent','attempt_num', 'gap_duration', 'prior_le']]\n",
    "        Y = ratings['is_correct']\n",
    "        X_train, X_test, y_train, y_test = train_test_split(X, Y, test_size=0.3)\n",
    "        \n",
    "        smote = SMOTE()\n",
    "        X_train_os, y_train_os = smote.fit_resample( X_train, y_train )\n",
    "        \n",
    "        logreg = LogisticRegression()\n",
    "        logreg.fit(X_train_os, y_train_os)\n",
    "        \n",
    "        y_prob = logreg.predict_proba( X_test )\n",
    "        fpr, tpr, thresholds = roc_curve(y_test, logreg.predict_proba(X_test)[:,1])\n",
    "        \n",
    "        optimal_threshold = 1\n",
    "        for i in range(len(fpr)):\n",
    "            tnr = 1-fpr[i]\n",
    "            if( tnr < target_tnr ):\n",
    "                optimal_threshold = thresholds[i-1]\n",
    "                break\n",
    "        \n",
    "        y_pred = [ (1 if prob[1] >= optimal_threshold else 0) for prob in y_prob ]\n",
    "        \n",
    "        c_mat = confusion_matrix(y_test, y_pred, labels=[0,1])\n",
    "        accuracy = (c_mat[0][0] + c_mat[1][1])/c_mat.sum()\n",
    "        \n",
    "        accuracy_wrong = (c_mat[0][0])/c_mat[0].sum()\n",
    "        accuracy_right = (c_mat[1][1])/c_mat[1].sum()\n",
    "        \n",
    "        model = {}\n",
    "        model[ 'train_set_size'  ] = X_train_os.shape[0]\n",
    "        model[ 'min_attempts'    ] = min_attempts\n",
    "        model[ 'features'        ] = logreg.feature_names_in_.tolist()\n",
    "        model[ 'coefficients'    ] = logreg.coef_[0].tolist()\n",
    "        model[ 'intercept'       ] = logreg.intercept_[0]\n",
    "        model[ 'target_tnr'      ] = target_tnr\n",
    "        model[ 'threshold'       ] = optimal_threshold\n",
    "        model[ 'accuracy'        ] = accuracy\n",
    "        model[ 'precision_wrong' ] = accuracy_wrong\n",
    "        model[ 'precision_right' ] = accuracy_right\n",
    "\n",
    "        models[ card_type ] = model\n",
    "\n",
    "    return models\n",
    "\n",
    "models = compute_logreg( ['fib','question_answer'], all_ratings, target_tnr=0.85, min_attempts=2 )\n",
    "\n",
    "print( json.dumps( models, indent=2 ) )"
   ]
  },
  {
   "cell_type": "code",
   "execution_count": 4,
   "id": "3ba2d4a1-9937-4434-92dd-14462513fb49",
   "metadata": {},
   "outputs": [
    {
     "data": {
      "text/plain": [
       "syllabus_name                                 Class-9\n",
       "subject_name                                  Physics\n",
       "chapter_id                                       1886\n",
       "chapter_name        3.4 - Laws of Motion-3rd Law (qa)\n",
       "card_id                                         82290\n",
       "card_type                             question_answer\n",
       "difficulty_level                                   26\n",
       "timestamp                         2023-09-20 20:57:16\n",
       "time_spent                                         44\n",
       "rating                                              E\n",
       "prior_le                                         80.0\n",
       "rating_num                                          1\n",
       "is_correct                                          1\n",
       "attempt_num                                         6\n",
       "gap_duration                                       34\n",
       "total_duration                                     86\n",
       "subject_num                                        10\n",
       "Name: 77067, dtype: object"
      ]
     },
     "execution_count": 4,
     "metadata": {},
     "output_type": "execute_result"
    }
   ],
   "source": [
    "ratings = all_ratings[all_ratings.card_type == 'question_answer']\n",
    "ratings = ratings[ratings.attempt_num > 4]\n",
    "ratings.loc[77067]"
   ]
  },
  {
   "cell_type": "code",
   "execution_count": 5,
   "id": "61d68ea1-91f1-446d-a522-5a63dfc35297",
   "metadata": {},
   "outputs": [],
   "source": [
    "class Predictor:\n",
    "    def __init__(self, model):\n",
    "        self.model = model\n",
    "        self.coeffs = model[ 'coefficients' ]\n",
    "        self.intercept = model[ 'intercept' ]\n",
    "        self.threshold = model[ 'threshold' ]\n",
    "\n",
    "    def set_parameters( self, subject_num, difficulty_level, time_spent, attempt_num, prior_le ):\n",
    "        self.subject_num      = subject_num\n",
    "        self.difficulty_level = difficulty_level\n",
    "        self.time_spent       = time_spent\n",
    "        self.attempt_num      = attempt_num\n",
    "        self.prior_le         = prior_le\n",
    "        self.features = [\n",
    "            self.subject_num, \n",
    "            self.difficulty_level, \n",
    "            self.time_spent, \n",
    "            self.attempt_num, \n",
    "            0, \n",
    "            prior_le\n",
    "        ]\n",
    "\n",
    "    def predict_outcome( self, gap_duration):\n",
    "        self.features[4] = gap_duration\n",
    "        x = np.dot( self.features, self.coeffs ) + self.intercept\n",
    "        probability = 1/(1 + np.exp(-x))\n",
    "        return (gap_duration, probability, \n",
    "                1 if probability > self.model['threshold'] else 0 ) \n",
    "\n",
    "    def predict_outcomes( self, gap_durations ):\n",
    "        return [ self.predict_outcome( d ) for d in gap_durations ]\n",
    "\n",
    "    def predict_optimal_gap_duration( self ):\n",
    "        for d in range( 0, 365 ):\n",
    "            outcome = self.predict_outcome( d )\n",
    "            if outcome[2] == 0:\n",
    "                return d\n",
    "        return 365\n"
   ]
  },
  {
   "cell_type": "code",
   "execution_count": 29,
   "id": "82f17af5-5df7-4445-8ae4-36e3c472acc3",
   "metadata": {},
   "outputs": [
    {
     "data": {
      "application/vnd.jupyter.widget-view+json": {
       "model_id": "4aa6d6e24f4243e0bbe0285367fdf6a3",
       "version_major": 2,
       "version_minor": 0
      },
      "text/plain": [
       "interactive(children=(IntSlider(value=26, description='difficulty_level', min=10), IntSlider(value=44, descrip…"
      ]
     },
     "metadata": {},
     "output_type": "display_data"
    },
    {
     "data": {
      "text/plain": [
       "<function __main__.plot_prediction(subject_num, difficulty_level=26, time_spent=44, attempt_num=7, prior_le=80)>"
      ]
     },
     "execution_count": 29,
     "metadata": {},
     "output_type": "execute_result"
    }
   ],
   "source": [
    "predictor = Predictor( models['question_answer'] )\n",
    "\n",
    "x = list( range(0, 365) )\n",
    "\n",
    "def plot_prediction( subject_num, difficulty_level=26, time_spent=44, attempt_num=7, prior_le=80 ):\n",
    "    predictor.set_parameters( subject_num, difficulty_level, time_spent, attempt_num, prior_le )\n",
    "    y = [o[1] for o in predictor.predict_outcomes( x )]\n",
    "    opt_gap = predictor.predict_optimal_gap_duration()\n",
    "    \n",
    "    plt.plot( x, y )\n",
    "    plt.plot( [0,365], [predictor.threshold, predictor.threshold], ':' )\n",
    "    plt.plot( [opt_gap, opt_gap], [0, 1.0], ':' )\n",
    "\n",
    "widgets.interact( plot_prediction, \n",
    "                  subject_num = widgets.fixed(10),\n",
    "                  difficulty_level = (10,100,1),\n",
    "                  time_spent = (10,180,1),\n",
    "                  attempt_num = (1,10,1),\n",
    "                  prior_le = (10,100,5) )"
   ]
  },
  {
   "cell_type": "code",
   "execution_count": null,
   "id": "310023cb-277c-4a25-af82-af416437dfe5",
   "metadata": {},
   "outputs": [],
   "source": []
  }
 ],
 "metadata": {
  "kernelspec": {
   "display_name": "Python 3 (ipykernel)",
   "language": "python",
   "name": "python3"
  },
  "language_info": {
   "codemirror_mode": {
    "name": "ipython",
    "version": 3
   },
   "file_extension": ".py",
   "mimetype": "text/x-python",
   "name": "python",
   "nbconvert_exporter": "python",
   "pygments_lexer": "ipython3",
   "version": "3.11.4"
  }
 },
 "nbformat": 4,
 "nbformat_minor": 5
}
